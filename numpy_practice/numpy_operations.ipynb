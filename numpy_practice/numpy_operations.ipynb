{
  "nbformat": 4,
  "nbformat_minor": 0,
  "metadata": {
    "colab": {
      "provenance": []
    },
    "kernelspec": {
      "name": "python3",
      "display_name": "Python 3"
    },
    "language_info": {
      "name": "python"
    }
  },
  "cells": [
    {
      "cell_type": "code",
      "execution_count": null,
      "metadata": {
        "id": "qjxZS5rrUNPr"
      },
      "outputs": [],
      "source": [
        "import numpy as np\n"
      ]
    },
    {
      "cell_type": "code",
      "source": [
        "arrange_array=np.arange(0,10,2)  # start=0, stop=10, step=2\n",
        "print(arrange_array)"
      ],
      "metadata": {
        "colab": {
          "base_uri": "https://localhost:8080/"
        },
        "id": "s99t41qqOu-T",
        "outputId": "c9f83b4e-3121-424a-a7e8-0e67c1e17945"
      },
      "execution_count": null,
      "outputs": [
        {
          "output_type": "stream",
          "name": "stdout",
          "text": [
            "[0 2 4 6 8]\n"
          ]
        }
      ]
    },
    {
      "cell_type": "code",
      "source": [
        "identity_matrix=np.eye(3)  # 3x3 identity matrix\n",
        "print(identity_matrix)\n"
      ],
      "metadata": {
        "colab": {
          "base_uri": "https://localhost:8080/"
        },
        "id": "4HpvI3sbPVBv",
        "outputId": "45b97fd1-1418-4e3a-ab91-4b7801b87914"
      },
      "execution_count": null,
      "outputs": [
        {
          "output_type": "stream",
          "name": "stdout",
          "text": [
            "[[1. 0. 0.]\n",
            " [0. 1. 0.]\n",
            " [0. 0. 1.]]\n"
          ]
        }
      ]
    },
    {
      "cell_type": "code",
      "source": [
        "shpe_array=np.array([[1,2,4]])\n",
        "print(shpe_array.shape)"
      ],
      "metadata": {
        "colab": {
          "base_uri": "https://localhost:8080/"
        },
        "id": "wPbTcc1VQusG",
        "outputId": "66444d3a-4015-4c5a-cb2e-fdb63da10211"
      },
      "execution_count": null,
      "outputs": [
        {
          "output_type": "stream",
          "name": "stdout",
          "text": [
            "(1, 3)\n"
          ]
        }
      ]
    },
    {
      "cell_type": "code",
      "source": [
        "size_array=np.array([[1,2,4]])\n",
        "print(size_array.size)  # returns the size of the array that is 3"
      ],
      "metadata": {
        "colab": {
          "base_uri": "https://localhost:8080/"
        },
        "id": "lhcSJ-8CRFYr",
        "outputId": "2493a505-c73f-4ac3-8f13-a968bb30e206"
      },
      "execution_count": null,
      "outputs": [
        {
          "output_type": "stream",
          "name": "stdout",
          "text": [
            "3\n"
          ]
        }
      ]
    },
    {
      "cell_type": "code",
      "source": [
        "ndim_array1=np.array([1,2,3])\n",
        "ndim_array2=np.array([[1,2,4]])\n",
        "ndim_array3=np.array([[[1,2,3],[4,5,6]]])\n",
        "print(ndim_array1.ndim)  # returns the number of dimensions of the array that is 1D array so it returns 1\n",
        "print(ndim_array2.ndim)  # returns the number of dimensions of the array that is 2D array so it returns 2\n",
        "print(ndim_array3.ndim)"
      ],
      "metadata": {
        "colab": {
          "base_uri": "https://localhost:8080/"
        },
        "id": "T3XCDa5RTR_L",
        "outputId": "86bc8553-500b-4935-9dce-7bd28caa1933"
      },
      "execution_count": null,
      "outputs": [
        {
          "output_type": "stream",
          "name": "stdout",
          "text": [
            "1\n",
            "2\n",
            "3\n"
          ]
        }
      ]
    },
    {
      "cell_type": "code",
      "source": [
        "dtype_array=np.array([1,2,3.4,5,3])\n",
        "print(dtype_array.dtype)"
      ],
      "metadata": {
        "colab": {
          "base_uri": "https://localhost:8080/"
        },
        "id": "tQC_mPKXTVmF",
        "outputId": "2807d515-3f79-4a34-bcb3-350441ad6004"
      },
      "execution_count": null,
      "outputs": [
        {
          "output_type": "stream",
          "name": "stdout",
          "text": [
            "float64\n"
          ]
        }
      ]
    },
    {
      "cell_type": "code",
      "source": [
        "astype_array=np.array([1,2,3,4,5])\n",
        "new_type=astype_array.astype(float)\n",
        "print(astype_array.astype(float))\n",
        "print(new_type.dtype)"
      ],
      "metadata": {
        "colab": {
          "base_uri": "https://localhost:8080/"
        },
        "id": "4e3Zb3ysUCV4",
        "outputId": "8a5c0e00-ff77-4cda-c96c-d4ec0a2c2fda"
      },
      "execution_count": null,
      "outputs": [
        {
          "output_type": "stream",
          "name": "stdout",
          "text": [
            "[1. 2. 3. 4. 5.]\n",
            "float64\n"
          ]
        }
      ]
    },
    {
      "cell_type": "code",
      "source": [
        "add_array1 = np.array([1, 2, 3])\n",
        "add_array2 = np.array([4, 5, 6])\n",
        "print(\"addition:\",add_array1 + add_array2)\n",
        "\n",
        "add_ones =np.ones((1,3),dtype='int')\n",
        "print(\"addition with ones:\",add_array1 + add_ones)\n",
        "print((add_array1+add_ones).dtype)\n",
        "print((add_array1+add_array2).dtype)"
      ],
      "metadata": {
        "colab": {
          "base_uri": "https://localhost:8080/"
        },
        "id": "hVy8Ie2fVmLc",
        "outputId": "27e5297e-063c-423f-c3e8-e0009b87ec80"
      },
      "execution_count": null,
      "outputs": [
        {
          "output_type": "stream",
          "name": "stdout",
          "text": [
            "addition: [5 7 9]\n",
            "addition with ones: [[2 3 4]]\n",
            "int64\n",
            "int64\n"
          ]
        }
      ]
    },
    {
      "cell_type": "code",
      "source": [
        "sum_array=np.array([12,3,5])\n",
        "print(\"sum: \",np.sum(sum_array))\n",
        "print(\"min: \",np.min(sum_array))\n",
        "print(\"mean: \",np.mean(sum_array))\n",
        "print(\"max: \",np.max(sum_array))\n",
        "print(\"standard deviation: \",np.std(sum_array))\n",
        "print(\"variance: \",np.var(sum_array))"
      ],
      "metadata": {
        "colab": {
          "base_uri": "https://localhost:8080/"
        },
        "id": "kBAH5oAxXz-X",
        "outputId": "88f2a1a0-a24d-4ca0-d9ea-7ea51ef04c22"
      },
      "execution_count": null,
      "outputs": [
        {
          "output_type": "stream",
          "name": "stdout",
          "text": [
            "sum:  20\n",
            "min:  3\n",
            "mean:  6.666666666666667\n",
            "max:  12\n",
            "standard deviation:  3.858612300930075\n",
            "variance:  14.888888888888888\n"
          ]
        }
      ]
    },
    {
      "cell_type": "code",
      "source": [
        "print_array=np.array([1,2,3,4,5,6])\n",
        "print(print_array)"
      ],
      "metadata": {
        "colab": {
          "base_uri": "https://localhost:8080/"
        },
        "id": "wrYiJ5d0uj1v",
        "outputId": "61c968fb-916e-4d81-cc5f-7553396e42ff"
      },
      "execution_count": null,
      "outputs": [
        {
          "output_type": "stream",
          "name": "stdout",
          "text": [
            "[1 2 3 4 5 6]\n"
          ]
        }
      ]
    },
    {
      "cell_type": "code",
      "source": [
        "print_zeros=np.zeros(3)\n",
        "print(print_zeros)"
      ],
      "metadata": {
        "colab": {
          "base_uri": "https://localhost:8080/"
        },
        "id": "SE5qEyW-y7GX",
        "outputId": "5c198dcb-ec65-40e3-d899-c328f6b2bca3"
      },
      "execution_count": null,
      "outputs": [
        {
          "output_type": "stream",
          "name": "stdout",
          "text": [
            "[0. 0. 0.]\n"
          ]
        }
      ]
    },
    {
      "cell_type": "code",
      "source": [
        "print_ones=np.ones(3)\n",
        "print(print_ones)"
      ],
      "metadata": {
        "colab": {
          "base_uri": "https://localhost:8080/"
        },
        "id": "XW03UdgDzFER",
        "outputId": "0572671d-0f53-4e9a-e9cd-08ae4636ea1d"
      },
      "execution_count": null,
      "outputs": [
        {
          "output_type": "stream",
          "name": "stdout",
          "text": [
            "[1. 1. 1.]\n"
          ]
        }
      ]
    },
    {
      "cell_type": "code",
      "source": [
        "array_sort=np.array([1,42,39,0])\n",
        "print(np.sort(array_sort))"
      ],
      "metadata": {
        "colab": {
          "base_uri": "https://localhost:8080/"
        },
        "id": "D6CBjRoCzvOL",
        "outputId": "81164292-17c0-4eae-b6ff-579d99a84185"
      },
      "execution_count": null,
      "outputs": [
        {
          "output_type": "stream",
          "name": "stdout",
          "text": [
            "[ 0  1 39 42]\n"
          ]
        }
      ]
    },
    {
      "cell_type": "code",
      "source": [
        "print_List=[1,2,3,4,5]\n",
        "print(print_List)"
      ],
      "metadata": {
        "colab": {
          "base_uri": "https://localhost:8080/"
        },
        "id": "4-gWXdhdwIcI",
        "outputId": "1e68fcab-40ca-4b12-e2bb-424e9a48d2b8"
      },
      "execution_count": null,
      "outputs": [
        {
          "output_type": "stream",
          "name": "stdout",
          "text": [
            "[1, 2, 3, 4, 5]\n"
          ]
        }
      ]
    },
    {
      "cell_type": "code",
      "source": [
        "#indexing and slicing\n",
        "arr=np.array([10,20,30,40,50])\n",
        "print(arr[0])\n",
        "print(arr[-1])  #prints the last element\n",
        "print(arr[1:5])\n",
        "print(arr[::2])\n",
        "print(arr[::-1])  #this will reverse the array"
      ],
      "metadata": {
        "colab": {
          "base_uri": "https://localhost:8080/"
        },
        "id": "qonlyQBNktps",
        "outputId": "9c27befc-9343-4377-9905-e7b23d3a9e44"
      },
      "execution_count": null,
      "outputs": [
        {
          "output_type": "stream",
          "name": "stdout",
          "text": [
            "10\n",
            "50\n",
            "[20 30 40 50]\n",
            "[10 30 50]\n",
            "[50 40 30 20 10]\n"
          ]
        }
      ]
    },
    {
      "cell_type": "code",
      "source": [
        "#fancy indexing : selecting multiple elements at once\n",
        "array=np.array([10,20,30,40,50,60])\n",
        "print(array[[0,2,4]])"
      ],
      "metadata": {
        "colab": {
          "base_uri": "https://localhost:8080/"
        },
        "id": "BZzTWxzgnPbd",
        "outputId": "df80887b-1cf1-428c-b3df-579950843cb2"
      },
      "execution_count": null,
      "outputs": [
        {
          "output_type": "stream",
          "name": "stdout",
          "text": [
            "[10 30 50]\n"
          ]
        }
      ]
    },
    {
      "cell_type": "code",
      "source": [
        "array=np.array([1, 2, 3, 4, 5, 6])\n",
        "print(array[array > 3])  # prints elements greater than 3"
      ],
      "metadata": {
        "colab": {
          "base_uri": "https://localhost:8080/"
        },
        "id": "roKoXcbO04xL",
        "outputId": "d55f76c8-c28c-4e96-b4e5-7fe9d4f25aaf"
      },
      "execution_count": null,
      "outputs": [
        {
          "output_type": "stream",
          "name": "stdout",
          "text": [
            "[4 5 6]\n"
          ]
        }
      ]
    },
    {
      "cell_type": "code",
      "source": [
        "array = np.array([1, 2, 3, 4, 5, 6])\n",
        "reshaped_array = array.reshape((2, 3))  # reshaping to 2 rows and 3 columns\n",
        "print(\"reshaped array:\\n\", reshaped_array)"
      ],
      "metadata": {
        "colab": {
          "base_uri": "https://localhost:8080/"
        },
        "id": "3Y23iBoq2W8j",
        "outputId": "1c1d1479-2ac0-4fa9-89af-6ccf4b08e752"
      },
      "execution_count": null,
      "outputs": [
        {
          "output_type": "stream",
          "name": "stdout",
          "text": [
            "reshaped array:\n",
            " [[1 2 3]\n",
            " [4 5 6]]\n"
          ]
        }
      ]
    },
    {
      "cell_type": "code",
      "source": [
        "array_2d = np.array([[1, 2, 3], [4, 5, 6]])\n",
        "print(array_2d.flatten())\n",
        "print(array_2d.ravel())"
      ],
      "metadata": {
        "colab": {
          "base_uri": "https://localhost:8080/"
        },
        "id": "sZftt2uR3mYd",
        "outputId": "f6e33568-5720-4139-f215-859e90e92ecc"
      },
      "execution_count": null,
      "outputs": [
        {
          "output_type": "stream",
          "name": "stdout",
          "text": [
            "[1 2 3 4 5 6]\n",
            "[1 2 3 4 5 6]\n"
          ]
        }
      ]
    },
    {
      "cell_type": "code",
      "source": [
        "insert_array = np.array([1, 2, 3])\n",
        "inserted_array = np.insert(insert_array, 1, 4 , axis=None)  # inserting along the rows\n",
        "print(\"inserted array:\\n\", inserted_array)\n",
        "\n",
        "appended_array = np.append(insert_array, 4,axis=None)  # appending to the end of the array\n",
        "print(\"appended array:\\n\", appended_array)\n",
        "\n",
        "\n",
        "concatenated_array = np.concatenate((inserted_array, appended_array), axis=None)  # concatenating two arrays\n",
        "print(\"concatenated array:\\n\", concatenated_array)\n",
        "\n",
        "\n",
        "deleted_array = np.delete(inserted_array, 3, axis=None)  # deleting the element at index 1\n",
        "print(\"deleted array:\\n\", deleted_array)"
      ],
      "metadata": {
        "colab": {
          "base_uri": "https://localhost:8080/"
        },
        "id": "sgnOIw0C4bzO",
        "outputId": "a7ede9eb-b210-4645-9da7-2ca42e00542a"
      },
      "execution_count": null,
      "outputs": [
        {
          "output_type": "stream",
          "name": "stdout",
          "text": [
            "inserted array:\n",
            " [1 4 2 3]\n",
            "appended array:\n",
            " [1 2 3 4]\n",
            "concatenated array:\n",
            " [1 4 2 3 1 2 3 4]\n",
            "deleted array:\n",
            " [1 4 2]\n"
          ]
        }
      ]
    },
    {
      "cell_type": "code",
      "source": [
        "insert_array2d = np.array([[1, 2], [3, 4]])\n",
        "inserted_array2d = np.insert(insert_array2d, 1, [5, 6], axis=0)  # inserting along the rows\n",
        "print(\"inserted 2D array along rows:\\n\", inserted_array2d)\n",
        "\n",
        "inserted_array2d = np.insert(insert_array2d, 1, [7, 8], axis=1)  # inserting along the rows\n",
        "print(\"inserted 2D array along column:\\n\", inserted_array2d)"
      ],
      "metadata": {
        "colab": {
          "base_uri": "https://localhost:8080/"
        },
        "id": "Y68cVQRU4mCR",
        "outputId": "4c83b185-7f6c-48b0-c767-b03c2846c0ce"
      },
      "execution_count": null,
      "outputs": [
        {
          "output_type": "stream",
          "name": "stdout",
          "text": [
            "inserted 2D array along rows:\n",
            " [[1 2]\n",
            " [5 6]\n",
            " [3 4]]\n",
            "inserted 2D array along column:\n",
            " [[1 7 2]\n",
            " [3 8 4]]\n"
          ]
        }
      ]
    },
    {
      "cell_type": "code",
      "source": [
        "arr1=np.array([1, 2, 3, 4])\n",
        "arr2=np.array([5, 6, 7, 8])\n",
        "print(\"vertical stacking:\\n\", np.vstack((arr1, arr2)))  # vertical stacking\n",
        "print(\"horizontal stacking:\\n\", np.hstack((arr1, arr2)))  # horizontal stacking"
      ],
      "metadata": {
        "colab": {
          "base_uri": "https://localhost:8080/"
        },
        "id": "fweo3gayEJSG",
        "outputId": "f1adc4d9-2228-402c-ea88-0aab2155abfb"
      },
      "execution_count": null,
      "outputs": [
        {
          "output_type": "stream",
          "name": "stdout",
          "text": [
            "vertical stacking:\n",
            " [[1 2 3 4]\n",
            " [5 6 7 8]]\n",
            "horizontal stacking:\n",
            " [1 2 3 4 5 6 7 8]\n"
          ]
        }
      ]
    },
    {
      "cell_type": "code",
      "source": [
        "split_array = np.array([[1, 2, 3], [4, 5, 6], [7, 8, 9]])\n",
        "print(\"split array:\", np.split(split_array, 3))  # splitting into 3 sub-arrays along the rows\n",
        "print(\"horizontal split:\", np.hsplit(split_array, 3))  # horizontal splitting into 3 sub-arrays\n",
        "print(\"vertical split:\", np.vsplit(split_array, 3))  # vertical splitting into 3 sub-array"
      ],
      "metadata": {
        "colab": {
          "base_uri": "https://localhost:8080/"
        },
        "id": "sOvSZNU7Iqqc",
        "outputId": "feccb18c-7eac-4a05-a5d2-5df4beb34744"
      },
      "execution_count": null,
      "outputs": [
        {
          "output_type": "stream",
          "name": "stdout",
          "text": [
            "split array: [array([[1, 2, 3]]), array([[4, 5, 6]]), array([[7, 8, 9]])]\n",
            "horizontal split: [array([[1],\n",
            "       [4],\n",
            "       [7]]), array([[2],\n",
            "       [5],\n",
            "       [8]]), array([[3],\n",
            "       [6],\n",
            "       [9]])]\n",
            "vertical split: [array([[1, 2, 3]]), array([[4, 5, 6]]), array([[7, 8, 9]])]\n"
          ]
        }
      ]
    },
    {
      "cell_type": "code",
      "source": [
        "prices = np.array([100, 200, 300])\n",
        "discount=10\n",
        "final_prices=prices-(prices * discount / 100)  # applying a discount of 10% to each price\n",
        "print(\"final prices after discount:\\n\", final_prices)"
      ],
      "metadata": {
        "colab": {
          "base_uri": "https://localhost:8080/"
        },
        "id": "erZqdWeq1S3x",
        "outputId": "f32a8621-88ad-402a-f354-a73a72e12466"
      },
      "execution_count": null,
      "outputs": [
        {
          "output_type": "stream",
          "name": "stdout",
          "text": [
            "final prices after discount:\n",
            " [ 90. 180. 270.]\n"
          ]
        }
      ]
    },
    {
      "cell_type": "code",
      "source": [
        "array1 = np.array([1, 2, 3, 4, 5])\n",
        "array2 = np.array([6, 7, 8, 9, 10])\n",
        "#using vectorized operations instead of loops\n",
        "result = array1 + array2  # adding two arrays element-wise\n",
        "print(\"vectorized result:\\n\", result)"
      ],
      "metadata": {
        "colab": {
          "base_uri": "https://localhost:8080/"
        },
        "id": "VgHziN7J6-VV",
        "outputId": "63cbeebb-a65a-451d-ca08-afa1c5cca160"
      },
      "execution_count": null,
      "outputs": [
        {
          "output_type": "stream",
          "name": "stdout",
          "text": [
            "vectorized result:\n",
            " [ 7  9 11 13 15]\n"
          ]
        }
      ]
    },
    {
      "cell_type": "code",
      "source": [
        "array_with_nan = np.array([1, 2, np.nan, 4, 5])\n",
        "#checking for missing values\n",
        "print(\"missing values in array:\", np.isnan(array_with_nan))  # returns a boolean array indicating missing values\n",
        "filled_array_with_nan = np.nan_to_num(array_with_nan, nan=0)  # filling missing values with 0\n",
        "print(\"filled array with nan:\\n\", filled_array_with_nan)  # filling missing values with 0"
      ],
      "metadata": {
        "colab": {
          "base_uri": "https://localhost:8080/"
        },
        "id": "GY5jDpMt8O3u",
        "outputId": "a7db9694-3bc3-4472-a841-ec809449f1eb"
      },
      "execution_count": null,
      "outputs": [
        {
          "output_type": "stream",
          "name": "stdout",
          "text": [
            "missing values in array: [False False  True False False]\n",
            "filled array with nan:\n",
            " [1. 2. 0. 4. 5.]\n"
          ]
        }
      ]
    },
    {
      "cell_type": "code",
      "source": [
        "array_with_inf = np.array([1, 2 , np.inf , -np.inf, 4, 5])\n",
        "#checking for infinite values\n",
        "print(\"infinite values in array:\", np.isinf(array_with_inf))  # returns a boolean array indicating infinite values\n",
        "#filling infinite values\n",
        "filled_array_with_inf = np.nan_to_num(array_with_inf, posinf=10, neginf=20)  # filling infinite values with 0\n",
        "print(\"filled array with inf:\\n\", filled_array_with_inf)  # filling infinite values with 0\n"
      ],
      "metadata": {
        "id": "sJmCyU509fn9",
        "outputId": "13762424-6c57-4f33-c796-091827d89ea6",
        "colab": {
          "base_uri": "https://localhost:8080/"
        }
      },
      "execution_count": null,
      "outputs": [
        {
          "output_type": "stream",
          "name": "stdout",
          "text": [
            "infinite values in array: [False False  True  True False False]\n",
            "filled array with inf:\n",
            " [ 1.  2. 10. 20.  4.  5.]\n"
          ]
        }
      ]
    }
  ]
}
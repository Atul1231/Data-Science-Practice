{
  "nbformat": 4,
  "nbformat_minor": 0,
  "metadata": {
    "colab": {
      "provenance": []
    },
    "kernelspec": {
      "name": "python3",
      "display_name": "Python 3"
    },
    "language_info": {
      "name": "python"
    }
  },
  "cells": [
    {
      "cell_type": "code",
      "execution_count": null,
      "metadata": {
        "id": "Gkk5ntQFtH5K",
        "colab": {
          "base_uri": "https://localhost:8080/"
        },
        "outputId": "aaff8cd7-e94a-4169-e49a-f38257b46897"
      },
      "outputs": [
        {
          "output_type": "stream",
          "name": "stdout",
          "text": [
            "pandas\n"
          ]
        }
      ],
      "source": [
        "print(\"pandas\")"
      ]
    },
    {
      "cell_type": "code",
      "source": [
        "import pandas as pd"
      ],
      "metadata": {
        "id": "ZpdC1Is8ClWR"
      },
      "execution_count": null,
      "outputs": []
    },
    {
      "cell_type": "code",
      "source": [
        "df=pd.read_csv(\"sales_data_sample.csv\",encoding=\"latin1\")"
      ],
      "metadata": {
        "id": "9Ew--XHTCqSC"
      },
      "execution_count": null,
      "outputs": []
    },
    {
      "cell_type": "code",
      "source": [
        "df.head()"
      ],
      "metadata": {
        "id": "izTiAhXODQNK"
      },
      "execution_count": null,
      "outputs": []
    },
    {
      "cell_type": "code",
      "source": [
        "np=pd.read_excel(\"SampleSuperstore.xlsx\")"
      ],
      "metadata": {
        "id": "gzRuqptGDZT-"
      },
      "execution_count": null,
      "outputs": []
    },
    {
      "cell_type": "code",
      "source": [
        "np.head()"
      ],
      "metadata": {
        "id": "9xvSBteiEKGI"
      },
      "execution_count": null,
      "outputs": []
    },
    {
      "cell_type": "code",
      "source": [
        "pn=pd.read_json(\"sample_Data.json\")"
      ],
      "metadata": {
        "id": "QGpcBxY5EBJ1"
      },
      "execution_count": null,
      "outputs": []
    },
    {
      "cell_type": "code",
      "source": [
        "pn.head()"
      ],
      "metadata": {
        "id": "hr-t2OtPER0p"
      },
      "execution_count": null,
      "outputs": []
    },
    {
      "cell_type": "code",
      "source": [
        "\n",
        "data={\n",
        "    \"Name\": [\"Alice\", \"Bob\", \"Charlie\"],\n",
        "    \"Age\": [25, 30, 35],\n",
        "    \"City\": [\"New York\", \"Los Angeles\", \"Chicago\"]\n",
        "}\n",
        "\n"
      ],
      "metadata": {
        "id": "3hh8WyIXFKbr"
      },
      "execution_count": null,
      "outputs": []
    },
    {
      "cell_type": "code",
      "source": [
        "df=pd.DataFrame(data)"
      ],
      "metadata": {
        "id": "XyO8o20lGzQT"
      },
      "execution_count": null,
      "outputs": []
    },
    {
      "cell_type": "code",
      "source": [
        "print(df.shape)"
      ],
      "metadata": {
        "id": "NDZQj33dQtRJ"
      },
      "execution_count": null,
      "outputs": []
    },
    {
      "cell_type": "code",
      "source": [
        "df.to_csv(\"output.csv\", index=False)"
      ],
      "metadata": {
        "id": "zEzQhAQ_GjQu"
      },
      "execution_count": null,
      "outputs": []
    },
    {
      "cell_type": "markdown",
      "source": [
        "df.to_json(\"output.json\")"
      ],
      "metadata": {
        "id": "EceyPNQCHZ-N"
      }
    },
    {
      "cell_type": "code",
      "source": [
        "print(df.info())"
      ],
      "metadata": {
        "id": "Lh4iTrDbHpfd"
      },
      "execution_count": null,
      "outputs": []
    },
    {
      "cell_type": "code",
      "source": [
        "data={\n",
        "    \"name\":[\"ravi\",\"kiran\",\"suresh\"],\n",
        "    \"age\":[23,24,25],\n",
        "    \"salary\":[1000,2000,3000],\n",
        "    \"performance\":[1,2,3]\n",
        "}\n",
        "\n",
        "#adding a new column\n",
        "df=pd.DataFrame(data)\n",
        "df['bonus'] = df['salary'] * 0.1  # Adding a new column 'bonus' which is 10% of 'salary'\n",
        "print(df)\n",
        "\n",
        "#now using insert method to add a new column at a specific position\n",
        "df.insert(2, 'department', ['HR', 'Finance', 'IT'])  # Insert 'department' column at index 2\n",
        "print(df)"
      ],
      "metadata": {
        "id": "1_Kn7TEJShoQ",
        "colab": {
          "base_uri": "https://localhost:8080/"
        },
        "outputId": "c6701968-dcd9-4888-9bb6-c4378f431419"
      },
      "execution_count": null,
      "outputs": [
        {
          "output_type": "stream",
          "name": "stdout",
          "text": [
            "     name  age  salary  performance  bonus\n",
            "0    ravi   23    1000            1  100.0\n",
            "1   kiran   24    2000            2  200.0\n",
            "2  suresh   25    3000            3  300.0\n",
            "     name  age department  salary  performance  bonus\n",
            "0    ravi   23         HR    1000            1  100.0\n",
            "1   kiran   24    Finance    2000            2  200.0\n",
            "2  suresh   25         IT    3000            3  300.0\n"
          ]
        }
      ]
    },
    {
      "cell_type": "code",
      "source": [
        "#updating values in a column\n",
        "df.loc[df['name'] == 'ravi', 'salary'] = 1500  # Update salary for 'ravi'\n",
        "print(df)"
      ],
      "metadata": {
        "colab": {
          "base_uri": "https://localhost:8080/"
        },
        "id": "2e3C2ikGk9ai",
        "outputId": "40b19b79-8e87-4606-96e1-41af8be00952"
      },
      "execution_count": null,
      "outputs": [
        {
          "output_type": "stream",
          "name": "stdout",
          "text": [
            "     name  age department  salary  performance  bonus\n",
            "0    ravi   23         HR    1500            1  100.0\n",
            "1   kiran   24    Finance    2000            2  200.0\n",
            "2  suresh   25         IT    3000            3  300.0\n"
          ]
        }
      ]
    },
    {
      "cell_type": "code",
      "source": [
        "#updating a whole column\n",
        "df['salary'] = df['salary'] * 1.02\n",
        "print(df)"
      ],
      "metadata": {
        "colab": {
          "base_uri": "https://localhost:8080/"
        },
        "id": "088kmD6qngJH",
        "outputId": "e3f7e8b3-e071-40b6-ff74-f001ca0c782d"
      },
      "execution_count": null,
      "outputs": [
        {
          "output_type": "stream",
          "name": "stdout",
          "text": [
            "     name  age department  salary  performance  bonus\n",
            "0    ravi   23         HR  1560.6            1  100.0\n",
            "1   kiran   24    Finance  2080.8            2  200.0\n",
            "2  suresh   25         IT  3121.2            3  300.0\n"
          ]
        }
      ]
    },
    {
      "cell_type": "code",
      "source": [
        "#deleting the columns\n",
        "df.drop(columns=[\"department\"] , inplace=True)\n",
        "print(df)"
      ],
      "metadata": {
        "colab": {
          "base_uri": "https://localhost:8080/"
        },
        "id": "7D3sH5aGnmFY",
        "outputId": "fa74e948-b439-4baa-8fa2-a7c4edc5b3d7"
      },
      "execution_count": null,
      "outputs": [
        {
          "output_type": "stream",
          "name": "stdout",
          "text": [
            "     name  age  salary  performance  bonus\n",
            "0    ravi   23  1560.6            1  100.0\n",
            "1   kiran   24  2080.8            2  200.0\n",
            "2  suresh   25  3121.2            3  300.0\n"
          ]
        }
      ]
    },
    {
      "cell_type": "code",
      "source": [
        "#sorting the dataframe\n",
        "df.sort_values(by='age', ascending=True , inplace=True)  # Sort by 'age' in ascending order\n",
        "print(df)"
      ],
      "metadata": {
        "colab": {
          "base_uri": "https://localhost:8080/"
        },
        "id": "GiAp9M-Robh1",
        "outputId": "22b1dd2a-c620-4be5-d27f-c59d13c7cfc5"
      },
      "execution_count": null,
      "outputs": [
        {
          "output_type": "stream",
          "name": "stdout",
          "text": [
            "     name  age  salary  performance  bonus\n",
            "0    ravi   23  1560.6            1  100.0\n",
            "1   kiran   24  2080.8            2  200.0\n",
            "2  suresh   25  3121.2            3  300.0\n"
          ]
        }
      ]
    },
    {
      "cell_type": "code",
      "source": [
        "\n",
        "df_customer = pd.DataFrame({\n",
        "    'customer_id': [1, 2, 3],\n",
        "    'customer_name': ['Alice', 'Bob', 'Charlie']\n",
        "})\n",
        "\n",
        "df_order = pd.DataFrame({\n",
        "    'order_id': [101, 102, 103],\n",
        "    'customer_id': [1, 2, 4],\n",
        "    'order_amount': [250, 150, 300]\n",
        "})\n",
        "\n",
        "df_merged = pd.merge(df_customer, df_order, on='customer_id', how='outer')  # Inner join on 'customer_id'\n",
        "print(df_merged)"
      ],
      "metadata": {
        "colab": {
          "base_uri": "https://localhost:8080/"
        },
        "id": "_Ug0T_o75_KM",
        "outputId": "c64b404d-9420-4d2c-858d-92b835acfdc6"
      },
      "execution_count": null,
      "outputs": [
        {
          "output_type": "stream",
          "name": "stdout",
          "text": [
            "   customer_id customer_name  order_id  order_amount\n",
            "0            1         Alice     101.0         250.0\n",
            "1            2           Bob     102.0         150.0\n",
            "2            3       Charlie       NaN           NaN\n",
            "3            4           NaN     103.0         300.0\n"
          ]
        }
      ]
    }
  ]
}
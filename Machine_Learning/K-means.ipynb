{
 "cells": [
  {
   "cell_type": "code",
   "execution_count": 1,
   "id": "9b335757",
   "metadata": {},
   "outputs": [],
   "source": [
    "from sklearn.datasets import make_blobs\n",
    "import matplotlib.pyplot as plt"
   ]
  },
  {
   "cell_type": "code",
   "execution_count": null,
   "id": "6c2458ed",
   "metadata": {},
   "outputs": [],
   "source": [
    "#code that implements K-means clustering from scratch\n",
    "import random\n",
    "import numpy as np\n",
    "class KMeans:\n",
    "    def __init__(self,n_clusters=2,max_iters=100):\n",
    "        self.n_clusters=n_clusters\n",
    "        self.max_iters=max_iters\n",
    "        self.centroids=None\n",
    "    def fit_predict(self,X):\n",
    "\n",
    "        random_index = random.sample(range(0,X.shape[0]),self.n_clusters)\n",
    "        self.centroids = X[random_index]\n",
    "\n",
    "        for i in range(self.max_iters):\n",
    "            # assign clusters\n",
    "            cluster_group = self.assign_clusters(X)\n",
    "            old_centroids = self.centroids\n",
    "            # move centroids\n",
    "            self.centroids = self.move_centroids(X,cluster_group)\n",
    "            # check finish\n",
    "            if (old_centroids == self.centroids).all():\n",
    "                break\n",
    "\n",
    "        return cluster_group\n",
    "\n",
    "    def assign_clusters(self,X):\n",
    "        cluster_group = []\n",
    "        distances = []\n",
    "\n",
    "        for row in X:\n",
    "            for centroid in self.centroids:\n",
    "                distances.append(np.sqrt(np.dot(row-centroid,row-centroid)))\n",
    "            min_distance = min(distances)\n",
    "            index_pos = distances.index(min_distance)\n",
    "            cluster_group.append(index_pos)\n",
    "            distances.clear()\n",
    "\n",
    "        return np.array(cluster_group)\n",
    "\n",
    "    def move_centroids(self,X,cluster_group):\n",
    "        new_centroids = []\n",
    "\n",
    "        cluster_type = np.unique(cluster_group)\n",
    "\n",
    "        for type in cluster_type:\n",
    "            new_centroids.append(X[cluster_group == type].mean(axis=0))\n",
    "\n",
    "        return np.array(new_centroids)\n"
   ]
  },
  {
   "cell_type": "code",
   "execution_count": 31,
   "id": "ea9e979d",
   "metadata": {},
   "outputs": [
    {
     "data": {
      "image/png": "[encoded data removed]",
      "text/plain": [
       "<Figure size 640x480 with 1 Axes>"
      ]
     },
     "metadata": {},
     "output_type": "display_data"
    }
   ],
   "source": [
    "centroids=[(-5,-5),(5,5),(-2.5,2.5),(2.5,-2.5)]\n",
    "cluster_std=[1,1,1,1]\n",
    "\n",
    "X,y=make_blobs(n_samples=100,centers=centroids,cluster_std=cluster_std,random_state=2,n_features=2)\n",
    "km=KMeans(n_clusters=4,max_iters=100)\n",
    "y_means=km.fit_predict(X)\n",
    "plt.scatter(X[y_means == 0,0],X[y_means == 0,1],color='red')\n",
    "plt.scatter(X[y_means == 1,0],X[y_means == 1,1],color='blue')\n",
    "plt.scatter(X[y_means == 2,0],X[y_means == 2,1],color='green')\n",
    "plt.scatter(X[y_means == 3,0],X[y_means == 3,1],color='yellow')\n",
    "plt.show()"
   ]
  }
 ],
 "metadata": {
  "kernelspec": {
   "display_name": "Python 3",
   "language": "python",
   "name": "python3"
  },
  "language_info": {
   "codemirror_mode": {
    "name": "ipython",
    "version": 3
   },
   "file_extension": ".py",
   "mimetype": "text/x-python",
   "name": "python",
   "nbconvert_exporter": "python",
   "pygments_lexer": "ipython3",
   "version": "3.13.7"
  }
 },
 "nbformat": 4,
 "nbformat_minor": 5
}
